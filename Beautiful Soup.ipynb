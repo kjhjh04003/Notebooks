{
 "cells": [
  {
   "cell_type": "code",
   "execution_count": 1,
   "id": "5462f14c",
   "metadata": {},
   "outputs": [
    {
     "name": "stdout",
     "output_type": "stream",
     "text": [
      "<!DOCTYPE html>\n",
      "<html lang=\"en\">\n",
      "<head>\n",
      "    <meta charset=\"UTF-8\">\n",
      "    <meta name=\"viewport\" content=\"width=device-width, initial-scale=1.0\">\n",
      "    <title>Sample HTML Page</title>\n",
      "</head>\n",
      "<body>\n",
      "    <div id=\"header\">\n",
      "        <h1>Sample Homepage</h1>\n",
      "        <ul class=\"nav\">\n",
      "            <li>home</li>\n",
      "            <li>About</li>\n",
      "            <li>Contact</li>\n",
      "        </ul>\n",
      "    </div>\n",
      "    <div id=\"content\">\n",
      "        <h1>Content Title</h1>\n",
      "        <p>Lorem ipsum dolor sit amet, consectetur adipiscing elit. Phasellus interdum.</p>\n",
      "        <ul class=\"list\">\n",
      "            <li>Comment 1</li>\n",
      "            <li>Comment 2</li>\n",
      "            <li>Comment 3</li>\n",
      "            <li>Comment 4</li>\n",
      "        </ul>\n",
      "    </div>\n",
      "    <div id=\"footer\">\n",
      "        &copy; Bit Academy\n",
      "    </div>\n",
      "</body>\n",
      "</html>\n",
      "<class 'str'>\n"
     ]
    }
   ],
   "source": [
    "# pip install bs4\n",
    "# ./data/sample.html 불러와서 출력\n",
    "with open(\"./data/sample.html\") as f:\n",
    "    html_str = f.read()\n",
    "print(html_str)\n",
    "print(type(html_str))"
   ]
  },
  {
   "cell_type": "code",
   "execution_count": 2,
   "id": "477e8cb8",
   "metadata": {},
   "outputs": [
    {
     "name": "stdout",
     "output_type": "stream",
     "text": [
      "<class 'bs4.BeautifulSoup'>\n",
      "문서의 제목태그: <title>Sample HTML Page</title> <class 'bs4.element.Tag'>\n",
      "태그의 이름 :  title\n",
      "콘텐트 :  Sample HTML Page\n"
     ]
    }
   ],
   "source": [
    "# Soup 객체로 변환\n",
    "from bs4 import BeautifulSoup\n",
    "\n",
    "soup = BeautifulSoup(html_str) # text -> DOM 객체로 변환\n",
    "print(type(soup))\n",
    "\n",
    "title_tag = soup.title\n",
    "print(\"문서의 제목태그:\", title_tag, type(title_tag))\n",
    "# 태그 내의 콘텐트 추출 : text 속성 이용\n",
    "print(\"태그의 이름 : \", title_tag.name) # 태그의 이름\n",
    "print(\"콘텐트 : \", title_tag.text) # 태그의 내용"
   ]
  },
  {
   "cell_type": "code",
   "execution_count": 3,
   "id": "0e5d76eb",
   "metadata": {},
   "outputs": [
    {
     "name": "stdout",
     "output_type": "stream",
     "text": [
      "자식들 :  <list_iterator object at 0x00000203B8F4ECD0> <class 'list_iterator'>\n",
      "head <class 'bs4.element.Tag'>\n",
      "body <class 'bs4.element.Tag'>\n",
      "body has div tag\n",
      "body has h1 tag\n",
      "body has ul tag\n",
      "body has li tag\n",
      "body has li tag\n",
      "body has li tag\n",
      "body has div tag\n",
      "body has h1 tag\n",
      "body has p tag\n",
      "body has ul tag\n",
      "body has li tag\n",
      "body has li tag\n",
      "body has li tag\n",
      "body has li tag\n",
      "body has div tag\n",
      "body의 부모가 html인가? True\n"
     ]
    }
   ],
   "source": [
    "# 최상위 노드 html을 확인\n",
    "html_tag = soup.html\n",
    "# 자식들 확인\n",
    "children = html_tag.children\n",
    "print(\"자식들 : \", children, type(children)) # type가 list_iterator\n",
    "\n",
    "from bs4.element import Tag\n",
    "# 자식 순회\n",
    "for child in children:\n",
    "    # 중요한 것은 Tag\n",
    "    # NavigableString은 Tree 구조를 구축하기 위한 특수한 구분 기호\n",
    "    #print(type(child))\n",
    "    if isinstance(child, Tag): #Tag면\n",
    "        print(child.name, type(child))\n",
    "        \n",
    "# print(soup.body.descendants) # body의 후손\n",
    "for node in soup.body.descendants:\n",
    "    if isinstance(node, Tag):\n",
    "        print(\"body has {} tag\".format(node.name))\n",
    "\n",
    "# 부모 노드의 확인 : .parent\n",
    "print(\"body의 부모가 html인가?\", soup.body.parent == soup.html)"
   ]
  },
  {
   "cell_type": "code",
   "execution_count": 4,
   "id": "8b3e101b",
   "metadata": {},
   "outputs": [
    {
     "name": "stdout",
     "output_type": "stream",
     "text": [
      "[<div id=\"header\">\n",
      "<h1>Sample Homepage</h1>\n",
      "<ul class=\"nav\">\n",
      "<li>home</li>\n",
      "<li>About</li>\n",
      "<li>Contact</li>\n",
      "</ul>\n",
      "</div>, <div id=\"content\">\n",
      "<h1>Content Title</h1>\n",
      "<p>Lorem ipsum dolor sit amet, consectetur adipiscing elit. Phasellus interdum.</p>\n",
      "<ul class=\"list\">\n",
      "<li>Comment 1</li>\n",
      "<li>Comment 2</li>\n",
      "<li>Comment 3</li>\n",
      "<li>Comment 4</li>\n",
      "</ul>\n",
      "</div>, <div id=\"footer\">\n",
      "        © Bit Academy\n",
      "    </div>]\n",
      "3개의 div가 있습니다.\n"
     ]
    }
   ],
   "source": [
    "# find를 이용한 노드의 탐색\n",
    "# 문서 내에서 div 노드 탐색\n",
    "# divs = soup.html.find(\"div\") # find는 처음 검색된 노드 1개만 탐색\n",
    "divs = soup.html.findAll(\"div\") # findAll은 검색된 모든 노드 -> 리스트형식으로 추출\n",
    "print(divs)\n",
    "print(\"{}개의 div가 있습니다.\".format(len(divs)))"
   ]
  },
  {
   "cell_type": "code",
   "execution_count": 5,
   "id": "44e4cd3a",
   "metadata": {
    "scrolled": true
   },
   "outputs": [
    {
     "name": "stdout",
     "output_type": "stream",
     "text": [
      "<div id=\"header\">\n",
      "<h1>Sample Homepage</h1>\n",
      "<ul class=\"nav\">\n",
      "<li>home</li>\n",
      "<li>About</li>\n",
      "<li>Contact</li>\n",
      "</ul>\n",
      "</div>\n",
      "<ul class=\"list\">\n",
      "<li>Comment 1</li>\n",
      "<li>Comment 2</li>\n",
      "<li>Comment 3</li>\n",
      "<li>Comment 4</li>\n",
      "</ul>\n",
      "ul.list\n",
      "list_item :  Comment 1\n",
      "list_item :  Comment 2\n",
      "list_item :  Comment 3\n",
      "list_item :  Comment 4\n"
     ]
    }
   ],
   "source": [
    "# 문서 내에 id 속성이 header인 div 태그 탐색\n",
    "header = soup.body.find(\"div\", {\"id\":\"header\"})\n",
    "print(header)\n",
    "# 문서 내에 class 속성이 list인 ul 태그 탐색\n",
    "list_ul = soup.body.find(\"ul\", {\"class\":\"list\"})\n",
    "print(list_ul)\n",
    "print(\"ul.list\") # class list인 ul\n",
    "for li in list_ul.children:\n",
    "    if isinstance(li, Tag):\n",
    "        print(\"list_item : \",li.text)"
   ]
  },
  {
   "cell_type": "code",
   "execution_count": 6,
   "id": "7df889d4",
   "metadata": {},
   "outputs": [
    {
     "name": "stdout",
     "output_type": "stream",
     "text": [
      "[<li>Comment 1</li>, <li>Comment 2</li>, <li>Comment 3</li>, <li>Comment 4</li>]\n"
     ]
    }
   ],
   "source": [
    "# SELECTOR : 문서 내에있는 태그를 규칙 기반으로 손쉽게 선택할 수 있다.\n",
    "# id 셀렉터 : #id이름\n",
    "# class 셀렉터 : .class이름\n",
    "# 자식 셀렉터 : >자식이름\n",
    "# 자손 셀렉터 : 공백자손이름\n",
    "\n",
    "# class가 list인 ul의 자식 li들\n",
    "lis = soup.body.select(\"ul.list>li\")\n",
    "print(lis)"
   ]
  }
 ],
 "metadata": {
  "kernelspec": {
   "display_name": "Python 3",
   "language": "python",
   "name": "python3"
  },
  "language_info": {
   "codemirror_mode": {
    "name": "ipython",
    "version": 3
   },
   "file_extension": ".py",
   "mimetype": "text/x-python",
   "name": "python",
   "nbconvert_exporter": "python",
   "pygments_lexer": "ipython3",
   "version": "3.9.5"
  }
 },
 "nbformat": 4,
 "nbformat_minor": 5
}
