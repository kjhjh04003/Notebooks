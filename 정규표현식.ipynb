{
 "cells": [
  {
   "cell_type": "code",
   "execution_count": 1,
   "id": "071604c8",
   "metadata": {},
   "outputs": [],
   "source": [
    "# 파이썬 정규 표현식\n",
    "\n",
    "# module import\n",
    "import re"
   ]
  },
  {
   "cell_type": "code",
   "execution_count": 2,
   "id": "cec59f7f",
   "metadata": {},
   "outputs": [
    {
     "name": "stdout",
     "output_type": "stream",
     "text": [
      "None\n",
      "<re.Match object; span=(0, 4), match='Life'>\n",
      "<re.Match object; span=(0, 4), match='Life'>\n",
      "Life\n"
     ]
    }
   ],
   "source": [
    "# 사용방법\n",
    "# 1. 패턴 컴파일\n",
    "# 2. 패턴 객체가 가진 메서드 이용하여 작업 수행\n",
    "source = \"Life is too short, you need Python\"\n",
    "\n",
    "# 방법1. 패턴 컴파일 후에 매칭\n",
    "p = re.compile(r\"P[a-z]+\") # P로 시작, 소문자 1개 이상인 패턴 매칭\n",
    "print(p.match(source))\n",
    "\n",
    "p = re.compile(r\"L[a-z]+\") # L로 시작, 소문자 1개 이상인 패턴 매칭\n",
    "print(p.match(source))\n",
    "\n",
    "# 방법2. 축약형: 컴파일 없이 일회성으로 즉시 매칭\n",
    "print(re.match(r\"[A-Za-z]+\", source)) # 대문자 or 소문자 1문자 이상인 패턴 매칭\n",
    "\n",
    "# 매칭된 내용을 추출 -> group() 메서드\n",
    "print(re.match(r\"[A-Za-z]+\", source).group())"
   ]
  },
  {
   "cell_type": "code",
   "execution_count": 3,
   "id": "72591bff",
   "metadata": {},
   "outputs": [
    {
     "name": "stdout",
     "output_type": "stream",
     "text": [
      "<re.Match object; span=(0, 5), match='Hello'>\n",
      "None\n",
      "<re.Match object; span=(7, 13), match='Python'>\n",
      "None\n",
      "<re.Match object; span=(7, 13), match='Python'>\n"
     ]
    }
   ],
   "source": [
    "# 특정 문자열이 포함되어 있는지 판별\n",
    "# match 메서드는 처음부터 일치해야 매칭\n",
    "source = \"Hello, Python\"\n",
    "print(re.match(\"Hello\", source))\n",
    "print(re.match(\"Python\", source))\n",
    "\n",
    "# search 메서드는 전체를 대상으로 매칭 수행\n",
    "# 기본적으로 대소문자를 구분\n",
    "print(re.search(\"Python\", source))\n",
    "print(re.search(\"python\", source))\n",
    "# 대소문자 구분 없이 매칭 시도 -> re.IGNORECASE or re.| 옵션 사용\n",
    "print(re.search(\"python\", source, re.IGNORECASE)) # 대소문자 구분없이 검색 가능"
   ]
  },
  {
   "cell_type": "code",
   "execution_count": 4,
   "id": "656ce0ac",
   "metadata": {},
   "outputs": [
    {
     "name": "stdout",
     "output_type": "stream",
     "text": [
      "['Paint', 'Perl', 'Python', 'P123']\n",
      "<re.Match object; span=(0, 5), match='Paint'> Paint\n",
      "<re.Match object; span=(27, 31), match='Perl'> Perl\n",
      "<re.Match object; span=(37, 43), match='Python'> Python\n",
      "<re.Match object; span=(44, 48), match='P123'> P123\n"
     ]
    }
   ],
   "source": [
    "# findall, finditer\n",
    "source = \"Paint C JavaScript 123 456 Perl Java Python P123 Ruby\"\n",
    "# P로 시작되는 문자열 검색 출력\n",
    "# findall : 매칭된 모든 문자열을 list로 반환\n",
    "# item = re.findall(r\"p[A-Za-z0-9]+\",source, re.IGNORECASE)\n",
    "# print(item)\n",
    "# item = re.findall(r\"\\bp[A-Za-z0-9]+\",source, re.IGNORECASE) # \\b는 경계를 기준으로 해준다.\n",
    "# print(item)\n",
    "item = re.findall(r\"\\bp\\w+\", source, re.IGNORECASE)\n",
    "print(item)\n",
    "\n",
    "# finditer : 매칭 영역을 iterator로 반환\n",
    "iter = re.finditer(r\"\\bp\\w+\", source, re.IGNORECASE)\n",
    "for item in iter:\n",
    "    # print(item)\n",
    "    print(item, item.group())"
   ]
  },
  {
   "cell_type": "code",
   "execution_count": 5,
   "id": "5f203a29",
   "metadata": {},
   "outputs": [
    {
     "name": "stdout",
     "output_type": "stream",
     "text": [
      "tel :  <re.Match object; span=(1, 14), match='010-1234-5678'> 010-1234-5678\n",
      "tel :  <re.Match object; span=(19, 32), match='032-9876-5432'> 032-9876-5432\n",
      "tel :  <re.Match object; span=(37, 49), match='02-4567-8901'> 02-4567-8901\n",
      "tel :  {'area': '010', 'exchange': '1234', 'number': '5678'}\n",
      "tel :  {'area': '032', 'exchange': '9876', 'number': '5432'}\n",
      "tel :  {'area': '02', 'exchange': '4567', 'number': '8901'}\n"
     ]
    }
   ],
   "source": [
    "# 예제1 \n",
    "# 전화번호 추출하기\n",
    "source = \"\"\"\n",
    "010-1234-5678 홍길동\n",
    "032-9876-5432 고길동\n",
    "02-4567-8901 장길산\n",
    "\"\"\"\n",
    "\n",
    "pattern = re.compile(r\"\\d{2,3}-\\d{3,4}-\\d{4}\")\n",
    "iter = pattern.finditer(source)\n",
    "for tel in iter:\n",
    "    print(\"tel : \", tel, tel.group())\n",
    "    \n",
    "# 정규식 패턴 작성 시 (?<이름>) 형식을 이용하면 매칭 결과에 이름을 부여할 수 있다.\n",
    "# 이름이 부여된 매칭 결과는 groupdict()메서드로 확인 가능\n",
    "pattern = re.compile(r\"(?P<area>\\d{2,3})-(?P<exchange>\\d{3,4})-(?P<number>\\d{4})\")\n",
    "iter = pattern.finditer(source)\n",
    "for tel in iter:\n",
    "    # print(\"tel : \", tel, tel.group(), tel.groups(), tel.groupdict())\n",
    "      print(\"tel : \", tel.groupdict())              \n",
    "                     "
   ]
  },
  {
   "cell_type": "code",
   "execution_count": 6,
   "id": "dd71f61c",
   "metadata": {},
   "outputs": [
    {
     "name": "stdout",
     "output_type": "stream",
     "text": [
      "hong@hwalbin.org\n",
      "jang@thieves.net\n",
      "gildong@dooly.net\n",
      "kjh.jh@naver.com\n"
     ]
    }
   ],
   "source": [
    "# 예제 2\n",
    "# 이메일 추출하기\n",
    "source = \"\"\"\n",
    "홍길동 hong@hwalbin.org\n",
    "장길산 jang@thieves.net\n",
    "고길동 gildong@dooly.net\n",
    "김준형 kjh.jh@naver.com\n",
    "\"\"\"\n",
    "\n",
    "pattern = re.compile(r\"\\w+[\\w\\.]*@\\w+\\.[a-z]+\")\n",
    "iter = pattern.finditer(source)\n",
    "for email in iter:\n",
    "    print(email.group())"
   ]
  },
  {
   "cell_type": "code",
   "execution_count": 7,
   "id": "ba32dde4",
   "metadata": {},
   "outputs": [
    {
     "name": "stdout",
     "output_type": "stream",
     "text": [
      "['대한민국', '홍길동', '장길산']\n"
     ]
    }
   ],
   "source": [
    "# 한국어 패턴 예제\n",
    "source = \"English 대한민국 Japan 홍길동 China 장길산\"\n",
    "p = re.compile(r\"[ㄱ-힣]+\") # Unicode의 범위\n",
    "print(p.findall(source))"
   ]
  },
  {
   "cell_type": "code",
   "execution_count": 8,
   "id": "e5fe8595",
   "metadata": {},
   "outputs": [
    {
     "name": "stdout",
     "output_type": "stream",
     "text": [
      "Pattern Split: ['사과', '오렌지', '바나나', '토마토', '수박']\n",
      "Pattern Sub: 사과-오렌지-바나나-토마토-수박\n"
     ]
    }
   ],
   "source": [
    "# split : 단순 문자열이 아닌 패턴을 이용하여 문자열을 분할\n",
    "source = \"사과 오렌지:바나나,토마토|수박\" # 공백, :, , ,|를 패턴으로 이용\n",
    "\n",
    "pattern = r\"[ :,|]\"\n",
    "print(\"Pattern Split:\", re.split(pattern, source))\n",
    "\n",
    "# sub : 단순문자열이 아닌 패턴 매핑을 이용한 변경\n",
    "print(\"Pattern Sub:\", re.sub(pattern, \"-\", source)) # 패턴 매칭 후 그것을 -로 변경"
   ]
  }
 ],
 "metadata": {
  "kernelspec": {
   "display_name": "Python 3",
   "language": "python",
   "name": "python3"
  },
  "language_info": {
   "codemirror_mode": {
    "name": "ipython",
    "version": 3
   },
   "file_extension": ".py",
   "mimetype": "text/x-python",
   "name": "python",
   "nbconvert_exporter": "python",
   "pygments_lexer": "ipython3",
   "version": "3.9.5"
  }
 },
 "nbformat": 4,
 "nbformat_minor": 5
}
